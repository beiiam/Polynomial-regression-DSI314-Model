{
 "cells": [
  {
   "attachments": {},
   "cell_type": "markdown",
   "metadata": {},
   "source": [
    "***Imoport function ที่จำเป็น***"
   ]
  },
  {
   "cell_type": "code",
   "execution_count": 43,
   "metadata": {},
   "outputs": [],
   "source": [
    "import numpy as np\n",
    "import pandas as pd\n",
    "import matplotlib.pyplot as plt\n",
    "from sklearn.linear_model import LinearRegression\n",
    "from sklearn.preprocessing import PolynomialFeatures\n",
    "from sklearn.model_selection import train_test_split\n",
    "from sklearn.metrics import r2_score\n",
    "import datetime as dt\n",
    "from datetime import datetime\n",
    "import matplotlib.dates as mdates\n",
    "from sklearn.metrics import mean_absolute_error\n",
    "from math import sqrt\n"
   ]
  },
  {
   "attachments": {},
   "cell_type": "markdown",
   "metadata": {},
   "source": [
    "***นำข้อมูล การตีพิมพ์งานวิจัยเกี่ยวกับกระท่อมในแต่ละปี เข้า***"
   ]
  },
  {
   "cell_type": "code",
   "execution_count": 44,
   "metadata": {},
   "outputs": [],
   "source": [
    "df = pd.read_excel(r'C:\\Users\\beam_\\Desktop\\Project 314\\Linear regression\\Kratom Research by Year .xlsx')"
   ]
  },
  {
   "attachments": {},
   "cell_type": "markdown",
   "metadata": {},
   "source": [
    "ทำการ plot กราฟ เพิ่อดูการเรียงตัวของข้อมูลการตีพิมพ์งานวิจัยเกี่ยวกับกระท่อม"
   ]
  },
  {
   "cell_type": "code",
   "execution_count": 45,
   "metadata": {},
   "outputs": [
    {
     "data": {
      "text/plain": [
       "<function matplotlib.pyplot.show(close=None, block=None)>"
      ]
     },
     "execution_count": 45,
     "metadata": {},
     "output_type": "execute_result"
    },
    {
     "data": {
      "image/png": "[encoded data removed]",
      "text/plain": [
       "<Figure size 1332x756 with 1 Axes>"
      ]
     },
     "metadata": {
      "needs_background": "light"
     },
     "output_type": "display_data"
    }
   ],
   "source": [
    "df.plot(x='Date',y='Total Research',style='o',figsize= (18.5, 10.5))\n",
    "plt.xlabel('Year')\n",
    "plt.ylabel('Total Research')\n",
    "plt.show"
   ]
  },
  {
   "attachments": {},
   "cell_type": "markdown",
   "metadata": {},
   "source": [
    "จากการกระจายข้องข้อมูลแล้วสรุปได้ว่า การเรียงตัวของข้อมูลแบบนี้สามารถนำเข้าสู่ Model ได้ทั้ง Linear Regression และ Polynomial Regression"
   ]
  },
  {
   "cell_type": "code",
   "execution_count": 46,
   "metadata": {},
   "outputs": [
    {
     "data": {
      "text/plain": [
       "0   2009-01-31\n",
       "1   2009-02-28\n",
       "2   2009-03-31\n",
       "3   2009-04-30\n",
       "4   2009-05-31\n",
       "Name: Date, dtype: datetime64[ns]"
      ]
     },
     "execution_count": 46,
     "metadata": {},
     "output_type": "execute_result"
    }
   ],
   "source": [
    "df.Date.head()"
   ]
  },
  {
   "attachments": {},
   "cell_type": "markdown",
   "metadata": {},
   "source": [
    "**เปลี่ยนรูปแบบของวันที่ไปอยู่ในรูปแบบของ The Proleptic Gregorian ordinal**"
   ]
  },
  {
   "attachments": {},
   "cell_type": "markdown",
   "metadata": {},
   "source": [
    "โดยเป็นการเปลี่ยนจากวันที่ทั่วไป (2021-12-21) เป็นจำนวนวันที่ผ่านวันที่ 0001-01-01 ไปว่าได้ผ่านไปแล้วกี่วัน"
   ]
  },
  {
   "attachments": {},
   "cell_type": "markdown",
   "metadata": {},
   "source": [
    "เผื่อให้ตัว Model Regression ของเราสามารถนำวันที่มาคำนวณได้"
   ]
  },
  {
   "cell_type": "code",
   "execution_count": 47,
   "metadata": {},
   "outputs": [
    {
     "data": {
      "text/html": [
       "<div>\n",
       "<style scoped>\n",
       "    .dataframe tbody tr th:only-of-type {\n",
       "        vertical-align: middle;\n",
       "    }\n",
       "\n",
       "    .dataframe tbody tr th {\n",
       "        vertical-align: top;\n",
       "    }\n",
       "\n",
       "    .dataframe thead th {\n",
       "        text-align: right;\n",
       "    }\n",
       "</style>\n",
       "<table border=\"1\" class=\"dataframe\">\n",
       "  <thead>\n",
       "    <tr style=\"text-align: right;\">\n",
       "      <th></th>\n",
       "      <th>Date</th>\n",
       "      <th>Total Research</th>\n",
       "      <th>Date_use</th>\n",
       "    </tr>\n",
       "  </thead>\n",
       "  <tbody>\n",
       "    <tr>\n",
       "      <th>0</th>\n",
       "      <td>2009-01-31</td>\n",
       "      <td>4</td>\n",
       "      <td>733438</td>\n",
       "    </tr>\n",
       "    <tr>\n",
       "      <th>1</th>\n",
       "      <td>2009-02-28</td>\n",
       "      <td>6</td>\n",
       "      <td>733466</td>\n",
       "    </tr>\n",
       "    <tr>\n",
       "      <th>2</th>\n",
       "      <td>2009-03-31</td>\n",
       "      <td>5</td>\n",
       "      <td>733497</td>\n",
       "    </tr>\n",
       "    <tr>\n",
       "      <th>3</th>\n",
       "      <td>2009-04-30</td>\n",
       "      <td>6</td>\n",
       "      <td>733527</td>\n",
       "    </tr>\n",
       "    <tr>\n",
       "      <th>4</th>\n",
       "      <td>2009-05-31</td>\n",
       "      <td>9</td>\n",
       "      <td>733558</td>\n",
       "    </tr>\n",
       "    <tr>\n",
       "      <th>...</th>\n",
       "      <td>...</td>\n",
       "      <td>...</td>\n",
       "      <td>...</td>\n",
       "    </tr>\n",
       "    <tr>\n",
       "      <th>162</th>\n",
       "      <td>2022-07-31</td>\n",
       "      <td>70</td>\n",
       "      <td>738367</td>\n",
       "    </tr>\n",
       "    <tr>\n",
       "      <th>163</th>\n",
       "      <td>2022-08-31</td>\n",
       "      <td>74</td>\n",
       "      <td>738398</td>\n",
       "    </tr>\n",
       "    <tr>\n",
       "      <th>164</th>\n",
       "      <td>2022-09-30</td>\n",
       "      <td>69</td>\n",
       "      <td>738428</td>\n",
       "    </tr>\n",
       "    <tr>\n",
       "      <th>165</th>\n",
       "      <td>2022-10-31</td>\n",
       "      <td>70</td>\n",
       "      <td>738459</td>\n",
       "    </tr>\n",
       "    <tr>\n",
       "      <th>166</th>\n",
       "      <td>2022-11-30</td>\n",
       "      <td>79</td>\n",
       "      <td>738489</td>\n",
       "    </tr>\n",
       "  </tbody>\n",
       "</table>\n",
       "<p>167 rows × 3 columns</p>\n",
       "</div>"
      ],
      "text/plain": [
       "          Date  Total Research  Date_use\n",
       "0   2009-01-31               4    733438\n",
       "1   2009-02-28               6    733466\n",
       "2   2009-03-31               5    733497\n",
       "3   2009-04-30               6    733527\n",
       "4   2009-05-31               9    733558\n",
       "..         ...             ...       ...\n",
       "162 2022-07-31              70    738367\n",
       "163 2022-08-31              74    738398\n",
       "164 2022-09-30              69    738428\n",
       "165 2022-10-31              70    738459\n",
       "166 2022-11-30              79    738489\n",
       "\n",
       "[167 rows x 3 columns]"
      ]
     },
     "execution_count": 47,
     "metadata": {},
     "output_type": "execute_result"
    }
   ],
   "source": [
    "df['Date_use']=df['Date'].map(dt.datetime.toordinal)\n",
    "df"
   ]
  },
  {
   "attachments": {},
   "cell_type": "markdown",
   "metadata": {},
   "source": [
    "แยกวันที่ที่แปลงค่าแล้ว และ จำนวยงานวิจัยที่ตีพิมพ์ออกโดย\n",
    "X = วันที่แบบ The Proleptic Gregorian ordinal\n",
    "y = จำนวนงานวิจัยที่ตีพิมพ์"
   ]
  },
  {
   "cell_type": "code",
   "execution_count": 48,
   "metadata": {},
   "outputs": [],
   "source": [
    "X = pd.DataFrame(df['Date_use'])\n",
    "y = pd.DataFrame(df['Total Research'])"
   ]
  },
  {
   "attachments": {},
   "cell_type": "markdown",
   "metadata": {},
   "source": [
    "แบ่ง Data สำหรับ Train และ Test โดยใช้ส่วนแบ่ง 80:20"
   ]
  },
  {
   "cell_type": "code",
   "execution_count": 49,
   "metadata": {},
   "outputs": [],
   "source": [
    "x_train, x_test, y_train, y_test = train_test_split(X, y, test_size=0.2, random_state=2)"
   ]
  },
  {
   "attachments": {},
   "cell_type": "markdown",
   "metadata": {},
   "source": [
    "ทำการสร้าง Model LinearRegression"
   ]
  },
  {
   "cell_type": "code",
   "execution_count": 50,
   "metadata": {},
   "outputs": [],
   "source": [
    "lr = LinearRegression()\n",
    "lr.fit(x_train, y_train)\n",
    "y_pred = lr.predict(x_test)"
   ]
  },
  {
   "attachments": {},
   "cell_type": "markdown",
   "metadata": {},
   "source": [
    "ทำการ plot กราฟเพื่อดู Regression line ของ model Linear Regression"
   ]
  },
  {
   "cell_type": "code",
   "execution_count": 51,
   "metadata": {},
   "outputs": [
    {
     "name": "stderr",
     "output_type": "stream",
     "text": [
      "C:\\Users\\beam_\\AppData\\Local\\Temp\\ipykernel_7448\\3054868764.py:5: UserWarning: FixedFormatter should only be used together with FixedLocator\n",
      "  ax.set_xticklabels(['0', '2010', '2013', '2016', '2018','2021'])\n"
     ]
    },
    {
     "data": {
      "image/png": "[encoded data removed]",
      "text/plain": [
       "<Figure size 1332x756 with 1 Axes>"
      ]
     },
     "metadata": {
      "needs_background": "light"
     },
     "output_type": "display_data"
    }
   ],
   "source": [
    "fig, ax = plt.subplots()\n",
    "fig.set_size_inches(18.5, 10.5)\n",
    "ax.plot(x_train,lr.predict(x_train), color='r')\n",
    "ax.plot(X,y,'b.',label='Training points')\n",
    "ax.set_xticklabels(['0', '2010', '2013', '2016', '2018','2021'])\n",
    "plt.xlabel(\"Year\")\n",
    "plt.ylabel(\"Total Research\")\n",
    "plt.legend()\n",
    "plt.show()"
   ]
  },
  {
   "attachments": {},
   "cell_type": "markdown",
   "metadata": {},
   "source": [
    "ทำการวัด performance measure ของ model Linear Regression ด้วย R2 score และ MAE"
   ]
  },
  {
   "cell_type": "code",
   "execution_count": 52,
   "metadata": {},
   "outputs": [
    {
     "name": "stdout",
     "output_type": "stream",
     "text": [
      "0.8815905991180497\n",
      "4.878127027281367\n"
     ]
    }
   ],
   "source": [
    "print(r2_score(y_test, y_pred))\n",
    "print(mean_absolute_error(y_test, y_pred))"
   ]
  },
  {
   "attachments": {},
   "cell_type": "markdown",
   "metadata": {},
   "source": [
    "นำเอา Model Linear Regression มาปรับให้กลายเป็น Polynomial Regression "
   ]
  },
  {
   "cell_type": "code",
   "execution_count": 53,
   "metadata": {},
   "outputs": [],
   "source": [
    "poly = PolynomialFeatures(degree=2, include_bias=True)\n",
    "x_train_trans = poly.fit_transform(x_train)\n",
    "x_test_trans = poly.transform(x_test)"
   ]
  },
  {
   "cell_type": "code",
   "execution_count": 54,
   "metadata": {},
   "outputs": [],
   "source": [
    "lr = LinearRegression()\n",
    "lr.fit(x_train_trans, y_train)\n",
    "y_pred = lr.predict(x_test_trans)"
   ]
  },
  {
   "attachments": {},
   "cell_type": "markdown",
   "metadata": {},
   "source": [
    "ทำการ plot กราฟเพื่อดู Regression line ของ model Polynomial Regression"
   ]
  },
  {
   "cell_type": "code",
   "execution_count": 55,
   "metadata": {},
   "outputs": [
    {
     "name": "stderr",
     "output_type": "stream",
     "text": [
      "c:\\ProgramData\\Miniconda3\\lib\\site-packages\\sklearn\\base.py:450: UserWarning: X does not have valid feature names, but PolynomialFeatures was fitted with feature names\n",
      "  warnings.warn(\n",
      "C:\\Users\\beam_\\AppData\\Local\\Temp\\ipykernel_7448\\604696086.py:8: UserWarning: FixedFormatter should only be used together with FixedLocator\n",
      "  ax.set_xticklabels(['0', '2010', '2013', '2016', '2018','2021'])\n"
     ]
    },
    {
     "data": {
      "image/png": "[encoded data removed]",
      "text/plain": [
       "<Figure size 1332x756 with 1 Axes>"
      ]
     },
     "metadata": {
      "needs_background": "light"
     },
     "output_type": "display_data"
    }
   ],
   "source": [
    "fig, ax = plt.subplots()\n",
    "fig.set_size_inches(18.5, 10.5)\n",
    "X_new = np.linspace(x_train.min(),x_train.max(),300).reshape(-1,1)\n",
    "X_new_poly = poly.transform(X_new)\n",
    "y_new = lr.predict(X_new_poly)\n",
    "ax.plot(X_new, y_new, \"r-\", linewidth=2, label=\"Predictions\")\n",
    "ax.plot(x_train, y_train, \"b.\",label='Training points')\n",
    "ax.set_xticklabels(['0', '2010', '2013', '2016', '2018','2021'])\n",
    "plt.xlabel(\"Year\")\n",
    "plt.ylabel(\"Total Research\")\n",
    "plt.legend()\n",
    "plt.show()"
   ]
  },
  {
   "attachments": {},
   "cell_type": "markdown",
   "metadata": {},
   "source": [
    "ทำการวัด performance measure ของ model Polynomial Regression ด้วย R2 score และ MAE"
   ]
  },
  {
   "cell_type": "code",
   "execution_count": 56,
   "metadata": {},
   "outputs": [
    {
     "name": "stdout",
     "output_type": "stream",
     "text": [
      "0.9149658286300534\n",
      "4.035967188431909\n"
     ]
    }
   ],
   "source": [
    "print(r2_score(y_test, y_pred))\n",
    "print(mean_absolute_error(y_test, y_pred))"
   ]
  },
  {
   "attachments": {},
   "cell_type": "markdown",
   "metadata": {},
   "source": [
    "คะแนนของ Model Polynomial Regression นั้นมีคะแนนดีกว่าแบบ Linear เล็กน้อย "
   ]
  },
  {
   "attachments": {},
   "cell_type": "markdown",
   "metadata": {},
   "source": [
    "***ทางผู้จัดทำจึงเลือก Model Polynomial Regression มาใช้ในการทำงานในการทำนาย***"
   ]
  },
  {
   "attachments": {},
   "cell_type": "markdown",
   "metadata": {},
   "source": [
    "นำวันที่เราต้องการทำนายจำนวนการตีพิมพ์ของงานวิจัยมาทำการแปลงรูปแบบของวันที่ให้อยู่ในรูปแบบของ The Proleptic Gregorian ordinal "
   ]
  },
  {
   "attachments": {},
   "cell_type": "markdown",
   "metadata": {},
   "source": [
    "โดยวันที่ที่เราเลือกมาทำนายในที่นี้ก็คือ ทุกๆเดือนของปี 2023"
   ]
  },
  {
   "cell_type": "code",
   "execution_count": 57,
   "metadata": {},
   "outputs": [
    {
     "name": "stdout",
     "output_type": "stream",
     "text": [
      "[738551, 738579, 738610, 738640, 738671, 738701, 738732, 738763, 738793, 738824, 738854, 738885]\n"
     ]
    }
   ],
   "source": [
    "Future = [datetime(2023, 1, 31,),datetime(2023, 2, 28,),datetime(2023, 3, 31,),datetime(2023, 4, 30,),datetime(2023, 5, 31,),datetime(2023, 6, 30,),datetime(2023, 7, 31,),datetime(2023, 8, 31,),datetime(2023, 9, 30,),datetime(2023, 10, 31,),datetime(2023, 11, 30,),datetime(2023, 12, 31,)]\n",
    "Future_or = []\n",
    "for i in Future:\n",
    "    Future_or.append(i.toordinal())\n",
    "print(Future_or)\n"
   ]
  },
  {
   "attachments": {},
   "cell_type": "markdown",
   "metadata": {},
   "source": [
    "นำวันที่ที่แปลงแล้ว และ ยังไม่ได้แปลงรวมกันให้อยู่ในรูปแบบของ Pandas"
   ]
  },
  {
   "cell_type": "code",
   "execution_count": 58,
   "metadata": {},
   "outputs": [
    {
     "data": {
      "text/html": [
       "<div>\n",
       "<style scoped>\n",
       "    .dataframe tbody tr th:only-of-type {\n",
       "        vertical-align: middle;\n",
       "    }\n",
       "\n",
       "    .dataframe tbody tr th {\n",
       "        vertical-align: top;\n",
       "    }\n",
       "\n",
       "    .dataframe thead th {\n",
       "        text-align: right;\n",
       "    }\n",
       "</style>\n",
       "<table border=\"1\" class=\"dataframe\">\n",
       "  <thead>\n",
       "    <tr style=\"text-align: right;\">\n",
       "      <th></th>\n",
       "      <th>Date</th>\n",
       "      <th>Date_use</th>\n",
       "    </tr>\n",
       "  </thead>\n",
       "  <tbody>\n",
       "    <tr>\n",
       "      <th>0</th>\n",
       "      <td>2023-01-31</td>\n",
       "      <td>738551</td>\n",
       "    </tr>\n",
       "    <tr>\n",
       "      <th>1</th>\n",
       "      <td>2023-02-28</td>\n",
       "      <td>738579</td>\n",
       "    </tr>\n",
       "    <tr>\n",
       "      <th>2</th>\n",
       "      <td>2023-03-31</td>\n",
       "      <td>738610</td>\n",
       "    </tr>\n",
       "    <tr>\n",
       "      <th>3</th>\n",
       "      <td>2023-04-30</td>\n",
       "      <td>738640</td>\n",
       "    </tr>\n",
       "    <tr>\n",
       "      <th>4</th>\n",
       "      <td>2023-05-31</td>\n",
       "      <td>738671</td>\n",
       "    </tr>\n",
       "    <tr>\n",
       "      <th>5</th>\n",
       "      <td>2023-06-30</td>\n",
       "      <td>738701</td>\n",
       "    </tr>\n",
       "    <tr>\n",
       "      <th>6</th>\n",
       "      <td>2023-07-31</td>\n",
       "      <td>738732</td>\n",
       "    </tr>\n",
       "    <tr>\n",
       "      <th>7</th>\n",
       "      <td>2023-08-31</td>\n",
       "      <td>738763</td>\n",
       "    </tr>\n",
       "    <tr>\n",
       "      <th>8</th>\n",
       "      <td>2023-09-30</td>\n",
       "      <td>738793</td>\n",
       "    </tr>\n",
       "    <tr>\n",
       "      <th>9</th>\n",
       "      <td>2023-10-31</td>\n",
       "      <td>738824</td>\n",
       "    </tr>\n",
       "    <tr>\n",
       "      <th>10</th>\n",
       "      <td>2023-11-30</td>\n",
       "      <td>738854</td>\n",
       "    </tr>\n",
       "    <tr>\n",
       "      <th>11</th>\n",
       "      <td>2023-12-31</td>\n",
       "      <td>738885</td>\n",
       "    </tr>\n",
       "  </tbody>\n",
       "</table>\n",
       "</div>"
      ],
      "text/plain": [
       "         Date Date_use\n",
       "0  2023-01-31   738551\n",
       "1  2023-02-28   738579\n",
       "2  2023-03-31   738610\n",
       "3  2023-04-30   738640\n",
       "4  2023-05-31   738671\n",
       "5  2023-06-30   738701\n",
       "6  2023-07-31   738732\n",
       "7  2023-08-31   738763\n",
       "8  2023-09-30   738793\n",
       "9  2023-10-31   738824\n",
       "10 2023-11-30   738854\n",
       "11 2023-12-31   738885"
      ]
     },
     "execution_count": 58,
     "metadata": {},
     "output_type": "execute_result"
    }
   ],
   "source": [
    "predict = pd.DataFrame(np.column_stack([Future, Future_or,]), \n",
    "                               columns=['Date', 'Date_use'])\n",
    "predict"
   ]
  },
  {
   "attachments": {},
   "cell_type": "markdown",
   "metadata": {},
   "source": [
    "ทำการทำนายจำนวนการตีพิมพ์งานวิจัยเกี่ยวกับกระท่อม"
   ]
  },
  {
   "cell_type": "code",
   "execution_count": 59,
   "metadata": {},
   "outputs": [
    {
     "data": {
      "text/plain": [
       "array([[74.88895903],\n",
       "       [75.55255681],\n",
       "       [76.29081917],\n",
       "       [77.00883336],\n",
       "       [77.754467  ],\n",
       "       [78.4796147 ],\n",
       "       [79.23261963],\n",
       "       [79.98937062],\n",
       "       [80.72527704],\n",
       "       [81.48939932],\n",
       "       [82.23243925],\n",
       "       [83.00393281]])"
      ]
     },
     "execution_count": 59,
     "metadata": {},
     "output_type": "execute_result"
    }
   ],
   "source": [
    "z = pd.DataFrame(predict['Date_use'])\n",
    "f_poly_features = poly.fit_transform(z.values.reshape(-1, 1))\n",
    "pre = lr.predict(f_poly_features)\n",
    "pre"
   ]
  },
  {
   "attachments": {},
   "cell_type": "markdown",
   "metadata": {},
   "source": [
    "นำผลลัพธ์เข้ามารวมให้อยู่ในรูปแบบของ Pandas"
   ]
  },
  {
   "cell_type": "code",
   "execution_count": 60,
   "metadata": {},
   "outputs": [
    {
     "data": {
      "text/html": [
       "<div>\n",
       "<style scoped>\n",
       "    .dataframe tbody tr th:only-of-type {\n",
       "        vertical-align: middle;\n",
       "    }\n",
       "\n",
       "    .dataframe tbody tr th {\n",
       "        vertical-align: top;\n",
       "    }\n",
       "\n",
       "    .dataframe thead th {\n",
       "        text-align: right;\n",
       "    }\n",
       "</style>\n",
       "<table border=\"1\" class=\"dataframe\">\n",
       "  <thead>\n",
       "    <tr style=\"text-align: right;\">\n",
       "      <th></th>\n",
       "      <th>Date</th>\n",
       "      <th>Date_use</th>\n",
       "      <th>Total Research</th>\n",
       "    </tr>\n",
       "  </thead>\n",
       "  <tbody>\n",
       "    <tr>\n",
       "      <th>0</th>\n",
       "      <td>2023-01-31</td>\n",
       "      <td>738551</td>\n",
       "      <td>74.888959</td>\n",
       "    </tr>\n",
       "    <tr>\n",
       "      <th>1</th>\n",
       "      <td>2023-02-28</td>\n",
       "      <td>738579</td>\n",
       "      <td>75.552557</td>\n",
       "    </tr>\n",
       "    <tr>\n",
       "      <th>2</th>\n",
       "      <td>2023-03-31</td>\n",
       "      <td>738610</td>\n",
       "      <td>76.290819</td>\n",
       "    </tr>\n",
       "    <tr>\n",
       "      <th>3</th>\n",
       "      <td>2023-04-30</td>\n",
       "      <td>738640</td>\n",
       "      <td>77.008833</td>\n",
       "    </tr>\n",
       "    <tr>\n",
       "      <th>4</th>\n",
       "      <td>2023-05-31</td>\n",
       "      <td>738671</td>\n",
       "      <td>77.754467</td>\n",
       "    </tr>\n",
       "    <tr>\n",
       "      <th>5</th>\n",
       "      <td>2023-06-30</td>\n",
       "      <td>738701</td>\n",
       "      <td>78.479615</td>\n",
       "    </tr>\n",
       "    <tr>\n",
       "      <th>6</th>\n",
       "      <td>2023-07-31</td>\n",
       "      <td>738732</td>\n",
       "      <td>79.232620</td>\n",
       "    </tr>\n",
       "    <tr>\n",
       "      <th>7</th>\n",
       "      <td>2023-08-31</td>\n",
       "      <td>738763</td>\n",
       "      <td>79.989371</td>\n",
       "    </tr>\n",
       "    <tr>\n",
       "      <th>8</th>\n",
       "      <td>2023-09-30</td>\n",
       "      <td>738793</td>\n",
       "      <td>80.725277</td>\n",
       "    </tr>\n",
       "    <tr>\n",
       "      <th>9</th>\n",
       "      <td>2023-10-31</td>\n",
       "      <td>738824</td>\n",
       "      <td>81.489399</td>\n",
       "    </tr>\n",
       "    <tr>\n",
       "      <th>10</th>\n",
       "      <td>2023-11-30</td>\n",
       "      <td>738854</td>\n",
       "      <td>82.232439</td>\n",
       "    </tr>\n",
       "    <tr>\n",
       "      <th>11</th>\n",
       "      <td>2023-12-31</td>\n",
       "      <td>738885</td>\n",
       "      <td>83.003933</td>\n",
       "    </tr>\n",
       "  </tbody>\n",
       "</table>\n",
       "</div>"
      ],
      "text/plain": [
       "         Date Date_use  Total Research\n",
       "0  2023-01-31   738551       74.888959\n",
       "1  2023-02-28   738579       75.552557\n",
       "2  2023-03-31   738610       76.290819\n",
       "3  2023-04-30   738640       77.008833\n",
       "4  2023-05-31   738671       77.754467\n",
       "5  2023-06-30   738701       78.479615\n",
       "6  2023-07-31   738732       79.232620\n",
       "7  2023-08-31   738763       79.989371\n",
       "8  2023-09-30   738793       80.725277\n",
       "9  2023-10-31   738824       81.489399\n",
       "10 2023-11-30   738854       82.232439\n",
       "11 2023-12-31   738885       83.003933"
      ]
     },
     "execution_count": 60,
     "metadata": {},
     "output_type": "execute_result"
    }
   ],
   "source": [
    "predict['Total Research'] = pre\n",
    "predict"
   ]
  },
  {
   "attachments": {},
   "cell_type": "markdown",
   "metadata": {},
   "source": [
    "นำตารางที่เราทำการทำนายปี 2023 เข้าไปรวมกับ Dataset หลักของเรา"
   ]
  },
  {
   "cell_type": "code",
   "execution_count": 61,
   "metadata": {},
   "outputs": [
    {
     "data": {
      "text/html": [
       "<div>\n",
       "<style scoped>\n",
       "    .dataframe tbody tr th:only-of-type {\n",
       "        vertical-align: middle;\n",
       "    }\n",
       "\n",
       "    .dataframe tbody tr th {\n",
       "        vertical-align: top;\n",
       "    }\n",
       "\n",
       "    .dataframe thead th {\n",
       "        text-align: right;\n",
       "    }\n",
       "</style>\n",
       "<table border=\"1\" class=\"dataframe\">\n",
       "  <thead>\n",
       "    <tr style=\"text-align: right;\">\n",
       "      <th></th>\n",
       "      <th>Date</th>\n",
       "      <th>Total Research</th>\n",
       "      <th>Date_use</th>\n",
       "    </tr>\n",
       "  </thead>\n",
       "  <tbody>\n",
       "    <tr>\n",
       "      <th>0</th>\n",
       "      <td>2009-01-31</td>\n",
       "      <td>4.000000</td>\n",
       "      <td>733438</td>\n",
       "    </tr>\n",
       "    <tr>\n",
       "      <th>1</th>\n",
       "      <td>2009-02-28</td>\n",
       "      <td>6.000000</td>\n",
       "      <td>733466</td>\n",
       "    </tr>\n",
       "    <tr>\n",
       "      <th>2</th>\n",
       "      <td>2009-03-31</td>\n",
       "      <td>5.000000</td>\n",
       "      <td>733497</td>\n",
       "    </tr>\n",
       "    <tr>\n",
       "      <th>3</th>\n",
       "      <td>2009-04-30</td>\n",
       "      <td>6.000000</td>\n",
       "      <td>733527</td>\n",
       "    </tr>\n",
       "    <tr>\n",
       "      <th>4</th>\n",
       "      <td>2009-05-31</td>\n",
       "      <td>9.000000</td>\n",
       "      <td>733558</td>\n",
       "    </tr>\n",
       "    <tr>\n",
       "      <th>...</th>\n",
       "      <td>...</td>\n",
       "      <td>...</td>\n",
       "      <td>...</td>\n",
       "    </tr>\n",
       "    <tr>\n",
       "      <th>174</th>\n",
       "      <td>2023-08-31</td>\n",
       "      <td>79.989371</td>\n",
       "      <td>738763</td>\n",
       "    </tr>\n",
       "    <tr>\n",
       "      <th>175</th>\n",
       "      <td>2023-09-30</td>\n",
       "      <td>80.725277</td>\n",
       "      <td>738793</td>\n",
       "    </tr>\n",
       "    <tr>\n",
       "      <th>176</th>\n",
       "      <td>2023-10-31</td>\n",
       "      <td>81.489399</td>\n",
       "      <td>738824</td>\n",
       "    </tr>\n",
       "    <tr>\n",
       "      <th>177</th>\n",
       "      <td>2023-11-30</td>\n",
       "      <td>82.232439</td>\n",
       "      <td>738854</td>\n",
       "    </tr>\n",
       "    <tr>\n",
       "      <th>178</th>\n",
       "      <td>2023-12-31</td>\n",
       "      <td>83.003933</td>\n",
       "      <td>738885</td>\n",
       "    </tr>\n",
       "  </tbody>\n",
       "</table>\n",
       "<p>179 rows × 3 columns</p>\n",
       "</div>"
      ],
      "text/plain": [
       "          Date  Total Research Date_use\n",
       "0   2009-01-31        4.000000   733438\n",
       "1   2009-02-28        6.000000   733466\n",
       "2   2009-03-31        5.000000   733497\n",
       "3   2009-04-30        6.000000   733527\n",
       "4   2009-05-31        9.000000   733558\n",
       "..         ...             ...      ...\n",
       "174 2023-08-31       79.989371   738763\n",
       "175 2023-09-30       80.725277   738793\n",
       "176 2023-10-31       81.489399   738824\n",
       "177 2023-11-30       82.232439   738854\n",
       "178 2023-12-31       83.003933   738885\n",
       "\n",
       "[179 rows x 3 columns]"
      ]
     },
     "execution_count": 61,
     "metadata": {},
     "output_type": "execute_result"
    }
   ],
   "source": [
    "df = pd.concat([df,predict],ignore_index=True)\n",
    "df"
   ]
  },
  {
   "attachments": {},
   "cell_type": "markdown",
   "metadata": {},
   "source": [
    "ทดลอง Plot กราฟเพื่อดูว่าการตีพิมพ์งานวิจัยเกี่ยวกับพืชกระท่อมจะยังได้รับความนิยมอยู่หรือไม่"
   ]
  },
  {
   "cell_type": "code",
   "execution_count": 62,
   "metadata": {},
   "outputs": [
    {
     "name": "stderr",
     "output_type": "stream",
     "text": [
      "C:\\Users\\beam_\\AppData\\Local\\Temp\\ipykernel_7448\\225648902.py:6: UserWarning: FixedFormatter should only be used together with FixedLocator\n",
      "  ax.set_xticklabels(['0', '2010', '2013', '2016', '2018','2021','2023'])\n"
     ]
    },
    {
     "data": {
      "image/png": "[encoded data removed]",
      "text/plain": [
       "<Figure size 1332x756 with 1 Axes>"
      ]
     },
     "metadata": {
      "needs_background": "light"
     },
     "output_type": "display_data"
    }
   ],
   "source": [
    "fig, ax = plt.subplots()\n",
    "fig.set_size_inches(18.5, 10.5)\n",
    "colors = np.where(df[\"Date_use\"]>= 738551 ,'r','b')\n",
    "ax.scatter(df['Date_use'],df['Total Research'],color=colors)\n",
    "ax.plot(X_new, y_new, \"r-\", linewidth=2, label=\"Predictions\")\n",
    "ax.set_xticklabels(['0', '2010', '2013', '2016', '2018','2021','2023'])\n",
    "plt.xlabel(\"Year\")\n",
    "plt.ylabel(\"Total Research\")\n",
    "plt.legend()\n",
    "plt.show()"
   ]
  },
  {
   "attachments": {},
   "cell_type": "markdown",
   "metadata": {},
   "source": [
    "***ผลลัพธ์ที่ได้***"
   ]
  },
  {
   "attachments": {},
   "cell_type": "markdown",
   "metadata": {},
   "source": [
    "งานวิจัยเกี่ยวกับกระท่อมจะยังได้รับความสนใจต่อไปในอีกหลายปีข้างหน้า แสดงให้เห็นว่าพืชกระท่อมยังเป็นสมุนไพรทางเลือกที่ผู้คนทั่วโลกเล็งเห็นถึงคุณประโยชน์และคุณค่าของพืชเหล่า นี่จึงเป็นข้อสนับสนุนหลักของเราในการเลือกสมุนไพรกระท่อมเข้ามาใช้ในผลิตภัณท์ของเรา\n"
   ]
  }
 ],
 "metadata": {
  "kernelspec": {
   "display_name": "base",
   "language": "python",
   "name": "python3"
  },
  "language_info": {
   "codemirror_mode": {
    "name": "ipython",
    "version": 3
   },
   "file_extension": ".py",
   "mimetype": "text/x-python",
   "name": "python",
   "nbconvert_exporter": "python",
   "pygments_lexer": "ipython3",
   "version": "3.9.5"
  },
  "orig_nbformat": 4,
  "vscode": {
   "interpreter": {
    "hash": "19d1d53a962d236aa061289c2ac16dc8e6d9648c89fe79f459ae9a3493bc67b4"
   }
  }
 },
 "nbformat": 4,
 "nbformat_minor": 2
}
